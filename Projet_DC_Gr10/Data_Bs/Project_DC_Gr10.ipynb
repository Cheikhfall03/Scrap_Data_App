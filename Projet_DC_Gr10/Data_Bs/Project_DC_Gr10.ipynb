{
 "cells": [
  {
   "cell_type": "markdown",
   "metadata": {
    "id": "CbATGAuK0vxv"
   },
   "source": [
    "### <font color = 'gold'> Import packages\n"
   ]
  },
  {
   "cell_type": "code",
   "execution_count": 60,
   "metadata": {
    "executionInfo": {
     "elapsed": 1551,
     "status": "ok",
     "timestamp": 1729783598705,
     "user": {
      "displayName": "Abdoul Wahab Diallo",
      "userId": "07970633565109207524"
     },
     "user_tz": 0
    },
    "id": "wd3BqFqfw29_"
   },
   "outputs": [],
   "source": [
    "# import packages\n",
    "from requests import get\n",
    "from bs4 import BeautifulSoup as bs\n",
    "import pandas as pd"
   ]
  },
  {
   "cell_type": "markdown",
   "metadata": {
    "id": "WsqJsdFBKK_S"
   },
   "source": [
    "### <font color = 'gold'> Collect data over one page"
   ]
  },
  {
   "cell_type": "code",
   "execution_count": 61,
   "metadata": {
    "executionInfo": {
     "elapsed": 2818,
     "status": "ok",
     "timestamp": 1729783612295,
     "user": {
      "displayName": "Abdoul Wahab Diallo",
      "userId": "07970633565109207524"
     },
     "user_tz": 0
    },
    "id": "nVub3Jdc-T1Z"
   },
   "outputs": [],
   "source": [
    "# url\n",
    "url = 'https://sn.coinafrique.com/categorie/chiens'\n",
    "# get the code html of the page using the get function requests\n",
    "res=get(url)\n",
    "# stock the html in a beautifulsoup objet with a html parser (a parser allows to easily navigate through the html code)\n",
    "soup=bs(res.text,'html.parser')"
   ]
  },
  {
   "cell_type": "code",
   "execution_count": 62,
   "metadata": {
    "colab": {
     "base_uri": "https://localhost:8080/"
    },
    "executionInfo": {
     "elapsed": 507,
     "status": "ok",
     "timestamp": 1729783807989,
     "user": {
      "displayName": "Abdoul Wahab Diallo",
      "userId": "07970633565109207524"
     },
     "user_tz": 0
    },
    "id": "HNokzEP1AfAG",
    "outputId": "3c16efc5-b644-4491-e705-2e57be3fab90"
   },
   "outputs": [],
   "source": [
    "# get all containers that contains this information of each dog\n",
    "containers=soup.find_all('div',class_='col s6 m4 l3')\n",
    "# length de containers\n",
    "len(containers)\n",
    "container=containers[0]"
   ]
  },
  {
   "cell_type": "code",
   "execution_count": null,
   "metadata": {},
   "outputs": [],
   "source": []
  },
  {
   "cell_type": "markdown",
   "metadata": {},
   "source": [
    "V1: Nom, V2 :  prix, V3 : adresse, V4: image_lien "
   ]
  },
  {
   "cell_type": "markdown",
   "metadata": {
    "id": "pjKe9VGZHXSN"
   },
   "source": [
    "First, we will start with one container and scrape the data. In that container, we will first try to get the URL of the container and enter inside the container to scrape the informations needed. After we generalize the scraping to the other containers by using a for loop."
   ]
  },
  {
   "cell_type": "code",
   "execution_count": null,
   "metadata": {},
   "outputs": [],
   "source": []
  },
  {
   "cell_type": "code",
   "execution_count": 63,
   "metadata": {
    "colab": {
     "base_uri": "https://localhost:8080/"
    },
    "executionInfo": {
     "elapsed": 1463,
     "status": "ok",
     "timestamp": 1729787020761,
     "user": {
      "displayName": "Abdoul Wahab Diallo",
      "userId": "07970633565109207524"
     },
     "user_tz": 0
    },
    "id": "s3p_gOnzOxXa",
    "outputId": "71978743-6fb1-4385-89a3-f14e9c83063c"
   },
   "outputs": [
    {
     "name": "stdout",
     "output_type": "stream",
     "text": [
      "Chien de garde -- 350000 -- Yoff, Dakar, Sénégal -- https://images.coinafrique.com/thumb_5045344_uploaded_image1_1731670002.jpg\n"
     ]
    }
   ],
   "source": [
    "# scrape data from the first container\n",
    "container=containers[0]\n",
    "Name=container.find('p', class_='ad__card-description').text.strip()\n",
    "# get the price\n",
    "price=container.find('p', class_='ad__card-price').text.strip().replace(' ','').replace('CFA','')\n",
    "# get the rating\n",
    "adress=container.find('p',class_='ad__card-location').span.text.strip()\n",
    "# get image link\n",
    "img_link=container.find('a',class_='card-image ad__card-image waves-block waves-light').img['src']\n",
    "# print all data for the first container\n",
    "print(Name,'--',price,'--',adress,'--',img_link)"
   ]
  },
  {
   "cell_type": "code",
   "execution_count": 64,
   "metadata": {
    "executionInfo": {
     "elapsed": 18149,
     "status": "ok",
     "timestamp": 1729787914226,
     "user": {
      "displayName": "Abdoul Wahab Diallo",
      "userId": "07970633565109207524"
     },
     "user_tz": 0
    },
    "id": "XGxES9sq5MeF"
   },
   "outputs": [],
   "source": [
    "# scrape data from all the containers\n",
    "data=[]\n",
    "for container in containers:\n",
    "     try:\n",
    "                # scrape data from the first container\n",
    "        \n",
    "        Name=container.find('p', class_='ad__card-description').text.strip()\n",
    "        # get the price\n",
    "        price=container.find('p', class_='ad__card-price').text.strip().replace(' ','').replace('CFA','')\n",
    "        # get the rating\n",
    "        adress=container.find('p',class_='ad__card-location').span.text.strip()\n",
    "        # get image link\n",
    "        img_link=container.find('a',class_='card-image ad__card-image waves-block waves-light').img['src']\n",
    "        dic={'Name':Name,\n",
    "             'price':price,\n",
    "             'adress':adress,\n",
    "             'img_link':img_link}\n",
    "        data.append(dic)\n",
    "     except:\n",
    "         pass\n",
    "df=pd.DataFrame(data)     "
   ]
  },
  {
   "cell_type": "code",
   "execution_count": 65,
   "metadata": {},
   "outputs": [
    {
     "data": {
      "text/plain": [
       "(84, 4)"
      ]
     },
     "execution_count": 65,
     "metadata": {},
     "output_type": "execute_result"
    }
   ],
   "source": [
    "df.shape"
   ]
  },
  {
   "cell_type": "code",
   "execution_count": 66,
   "metadata": {},
   "outputs": [
    {
     "data": {
      "text/html": [
       "<div>\n",
       "<style scoped>\n",
       "    .dataframe tbody tr th:only-of-type {\n",
       "        vertical-align: middle;\n",
       "    }\n",
       "\n",
       "    .dataframe tbody tr th {\n",
       "        vertical-align: top;\n",
       "    }\n",
       "\n",
       "    .dataframe thead th {\n",
       "        text-align: right;\n",
       "    }\n",
       "</style>\n",
       "<table border=\"1\" class=\"dataframe\">\n",
       "  <thead>\n",
       "    <tr style=\"text-align: right;\">\n",
       "      <th></th>\n",
       "      <th>Name</th>\n",
       "      <th>price</th>\n",
       "      <th>adress</th>\n",
       "      <th>img_link</th>\n",
       "    </tr>\n",
       "  </thead>\n",
       "  <tbody>\n",
       "    <tr>\n",
       "      <th>0</th>\n",
       "      <td>Chien de garde</td>\n",
       "      <td>350000</td>\n",
       "      <td>Yoff, Dakar, Sénégal</td>\n",
       "      <td>https://images.coinafrique.com/thumb_5045344_u...</td>\n",
       "    </tr>\n",
       "    <tr>\n",
       "      <th>1</th>\n",
       "      <td>Caniche mâle</td>\n",
       "      <td>650000</td>\n",
       "      <td>Almadies 2, Dakar, Sénégal</td>\n",
       "      <td>https://images.coinafrique.com/thumb_5054275_u...</td>\n",
       "    </tr>\n",
       "    <tr>\n",
       "      <th>2</th>\n",
       "      <td>Chiot chihuahuas</td>\n",
       "      <td>250000</td>\n",
       "      <td>Sicap Liberté, Dakar, Sénégal</td>\n",
       "      <td>https://images.coinafrique.com/thumb_5045245_u...</td>\n",
       "    </tr>\n",
       "    <tr>\n",
       "      <th>3</th>\n",
       "      <td>Chiot Rottweiler</td>\n",
       "      <td>300000</td>\n",
       "      <td>Mbao, Dakar, Sénégal</td>\n",
       "      <td>https://images.coinafrique.com/thumb_5044649_u...</td>\n",
       "    </tr>\n",
       "    <tr>\n",
       "      <th>4</th>\n",
       "      <td>Chiots bichons maltais femelles</td>\n",
       "      <td>150000</td>\n",
       "      <td>Mamelles, Dakar, Sénégal</td>\n",
       "      <td>https://images.coinafrique.com/thumb_5042102_u...</td>\n",
       "    </tr>\n",
       "  </tbody>\n",
       "</table>\n",
       "</div>"
      ],
      "text/plain": [
       "                              Name   price                         adress  \\\n",
       "0                   Chien de garde  350000           Yoff, Dakar, Sénégal   \n",
       "1                     Caniche mâle  650000     Almadies 2, Dakar, Sénégal   \n",
       "2                 Chiot chihuahuas  250000  Sicap Liberté, Dakar, Sénégal   \n",
       "3                 Chiot Rottweiler  300000           Mbao, Dakar, Sénégal   \n",
       "4  Chiots bichons maltais femelles  150000       Mamelles, Dakar, Sénégal   \n",
       "\n",
       "                                            img_link  \n",
       "0  https://images.coinafrique.com/thumb_5045344_u...  \n",
       "1  https://images.coinafrique.com/thumb_5054275_u...  \n",
       "2  https://images.coinafrique.com/thumb_5045245_u...  \n",
       "3  https://images.coinafrique.com/thumb_5044649_u...  \n",
       "4  https://images.coinafrique.com/thumb_5042102_u...  "
      ]
     },
     "execution_count": 66,
     "metadata": {},
     "output_type": "execute_result"
    }
   ],
   "source": [
    "df.head()"
   ]
  },
  {
   "cell_type": "code",
   "execution_count": 67,
   "metadata": {},
   "outputs": [
    {
     "data": {
      "text/plain": [
       "np.int64(0)"
      ]
     },
     "execution_count": 67,
     "metadata": {},
     "output_type": "execute_result"
    }
   ],
   "source": [
    "df.duplicated().sum()"
   ]
  },
  {
   "cell_type": "markdown",
   "metadata": {
    "id": "zSsC9fyxKV7-"
   },
   "source": [
    "### <font color = 'gold'> Collect data over multiple pages"
   ]
  },
  {
   "cell_type": "code",
   "execution_count": 74,
   "metadata": {
    "executionInfo": {
     "elapsed": 257427,
     "status": "ok",
     "timestamp": 1729788632448,
     "user": {
      "displayName": "Abdoul Wahab Diallo",
      "userId": "07970633565109207524"
     },
     "user_tz": 0
    },
    "id": "PlRyDhnRJ9hD"
   },
   "outputs": [],
   "source": [
    "# create a empty dataframe df\n",
    "df=pd.DataFrame()\n",
    "# loop over pages indexes\n",
    "for page in range(1,11):\n",
    "    url=f'https://sn.coinafrique.com/categorie/chiens?page={page}'\n",
    "    res=get(url)\n",
    "# stock the html in a beautifulsoup objet with a html parser (a parser allows to easily navigate through the html code)\n",
    "    soup=bs(res.text,'html.parser')\n",
    "    containers=soup.find_all('div',class_='col s6 m4 l3')\n",
    "   # scrape data from all the containers\n",
    "# scrape data from all the containers\n",
    "    data=[]\n",
    "    for container in containers:\n",
    "        try:\n",
    "                    # scrape data from the first container\n",
    "            \n",
    "            Name=container.find('p', class_='ad__card-description').text.strip()\n",
    "            # get the price\n",
    "            price=container.find('p', class_='ad__card-price').text.strip().replace(' ','').replace('CFA','')\n",
    "            # get the rating\n",
    "            adress=container.find('p',class_='ad__card-location').span.text.strip()\n",
    "            # get image link\n",
    "            img_link=container.find('a',class_='card-image ad__card-image waves-block waves-light').img['src']\n",
    "            dic={'Name':Name,\n",
    "                'price':price,\n",
    "                'adress':adress,\n",
    "                'img_link':img_link}\n",
    "            data.append(dic)\n",
    "        except:\n",
    "            pass      \n",
    "    DF=pd.DataFrame(data)  \n",
    "    df=pd.concat([df,DF],axis=0).reset_index(drop=True)\n",
    "    "
   ]
  },
  {
   "cell_type": "code",
   "execution_count": 76,
   "metadata": {},
   "outputs": [
    {
     "data": {
      "text/html": [
       "<div>\n",
       "<style scoped>\n",
       "    .dataframe tbody tr th:only-of-type {\n",
       "        vertical-align: middle;\n",
       "    }\n",
       "\n",
       "    .dataframe tbody tr th {\n",
       "        vertical-align: top;\n",
       "    }\n",
       "\n",
       "    .dataframe thead th {\n",
       "        text-align: right;\n",
       "    }\n",
       "</style>\n",
       "<table border=\"1\" class=\"dataframe\">\n",
       "  <thead>\n",
       "    <tr style=\"text-align: right;\">\n",
       "      <th></th>\n",
       "      <th>Name</th>\n",
       "      <th>price</th>\n",
       "      <th>adress</th>\n",
       "      <th>img_link</th>\n",
       "    </tr>\n",
       "  </thead>\n",
       "  <tbody>\n",
       "    <tr>\n",
       "      <th>0</th>\n",
       "      <td>Chien de garde</td>\n",
       "      <td>350000</td>\n",
       "      <td>Yoff, Dakar, Sénégal</td>\n",
       "      <td>https://images.coinafrique.com/thumb_5045344_u...</td>\n",
       "    </tr>\n",
       "    <tr>\n",
       "      <th>1</th>\n",
       "      <td>Caniche mâle</td>\n",
       "      <td>650000</td>\n",
       "      <td>Almadies 2, Dakar, Sénégal</td>\n",
       "      <td>https://images.coinafrique.com/thumb_5054275_u...</td>\n",
       "    </tr>\n",
       "    <tr>\n",
       "      <th>2</th>\n",
       "      <td>Chiot chihuahuas</td>\n",
       "      <td>250000</td>\n",
       "      <td>Sicap Liberté, Dakar, Sénégal</td>\n",
       "      <td>https://images.coinafrique.com/thumb_5045245_u...</td>\n",
       "    </tr>\n",
       "    <tr>\n",
       "      <th>3</th>\n",
       "      <td>Chiot Rottweiler</td>\n",
       "      <td>300000</td>\n",
       "      <td>Mbao, Dakar, Sénégal</td>\n",
       "      <td>https://images.coinafrique.com/thumb_5044649_u...</td>\n",
       "    </tr>\n",
       "    <tr>\n",
       "      <th>4</th>\n",
       "      <td>Chiots bichons maltais femelles</td>\n",
       "      <td>150000</td>\n",
       "      <td>Mamelles, Dakar, Sénégal</td>\n",
       "      <td>https://images.coinafrique.com/thumb_5042102_u...</td>\n",
       "    </tr>\n",
       "  </tbody>\n",
       "</table>\n",
       "</div>"
      ],
      "text/plain": [
       "                              Name   price                         adress  \\\n",
       "0                   Chien de garde  350000           Yoff, Dakar, Sénégal   \n",
       "1                     Caniche mâle  650000     Almadies 2, Dakar, Sénégal   \n",
       "2                 Chiot chihuahuas  250000  Sicap Liberté, Dakar, Sénégal   \n",
       "3                 Chiot Rottweiler  300000           Mbao, Dakar, Sénégal   \n",
       "4  Chiots bichons maltais femelles  150000       Mamelles, Dakar, Sénégal   \n",
       "\n",
       "                                            img_link  \n",
       "0  https://images.coinafrique.com/thumb_5045344_u...  \n",
       "1  https://images.coinafrique.com/thumb_5054275_u...  \n",
       "2  https://images.coinafrique.com/thumb_5045245_u...  \n",
       "3  https://images.coinafrique.com/thumb_5044649_u...  \n",
       "4  https://images.coinafrique.com/thumb_5042102_u...  "
      ]
     },
     "execution_count": 76,
     "metadata": {},
     "output_type": "execute_result"
    }
   ],
   "source": [
    "df.head()"
   ]
  },
  {
   "cell_type": "code",
   "execution_count": 77,
   "metadata": {},
   "outputs": [
    {
     "data": {
      "text/plain": [
       "(783, 4)"
      ]
     },
     "execution_count": 77,
     "metadata": {},
     "output_type": "execute_result"
    }
   ],
   "source": [
    "df.shape"
   ]
  },
  {
   "cell_type": "code",
   "execution_count": 78,
   "metadata": {},
   "outputs": [
    {
     "data": {
      "text/plain": [
       "np.int64(0)"
      ]
     },
     "execution_count": 78,
     "metadata": {},
     "output_type": "execute_result"
    }
   ],
   "source": [
    "df.duplicated().sum()"
   ]
  },
  {
   "cell_type": "code",
   "execution_count": 80,
   "metadata": {},
   "outputs": [
    {
     "data": {
      "text/plain": [
       "np.int64(0)"
      ]
     },
     "execution_count": 80,
     "metadata": {},
     "output_type": "execute_result"
    }
   ],
   "source": [
    "df.isna().any().sum()"
   ]
  },
  {
   "cell_type": "code",
   "execution_count": 82,
   "metadata": {},
   "outputs": [],
   "source": [
    "df.to_csv('DataChienBS.csv', index=False)"
   ]
  },
  {
   "cell_type": "code",
   "execution_count": null,
   "metadata": {},
   "outputs": [],
   "source": []
  },
  {
   "cell_type": "code",
   "execution_count": null,
   "metadata": {},
   "outputs": [],
   "source": []
  },
  {
   "cell_type": "code",
   "execution_count": null,
   "metadata": {},
   "outputs": [],
   "source": []
  }
 ],
 "metadata": {
  "colab": {
   "authorship_tag": "ABX9TyNCzmN/3zDUtNkSMl94MJ6C",
   "provenance": [
    {
     "file_id": "1xPD2K7UQycFfkb6mH_84Qq-UHu30aNs_",
     "timestamp": 1729783175008
    }
   ]
  },
  "kernelspec": {
   "display_name": "base",
   "language": "python",
   "name": "python3"
  },
  "language_info": {
   "codemirror_mode": {
    "name": "ipython",
    "version": 3
   },
   "file_extension": ".py",
   "mimetype": "text/x-python",
   "name": "python",
   "nbconvert_exporter": "python",
   "pygments_lexer": "ipython3",
   "version": "3.12.7"
  }
 },
 "nbformat": 4,
 "nbformat_minor": 4
}
